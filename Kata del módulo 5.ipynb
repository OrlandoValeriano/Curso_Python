{
 "cells": [
  {
   "cell_type": "markdown",
   "metadata": {},
   "source": [
    "# Ejercicio1 - Utilizar operadores aritméticos \n",
    "Operadores aritméticos en Phyton"
   ]
  },
  {
   "cell_type": "code",
   "execution_count": 1,
   "metadata": {},
   "outputs": [],
   "source": [
    "# Declaración de varibales de tipo (int).\n",
    "Tierra = 149597870\n",
    "Jupiter = 778547200"
   ]
  },
  {
   "cell_type": "code",
   "execution_count": 22,
   "metadata": {},
   "outputs": [
    {
     "name": "stdout",
     "output_type": "stream",
     "text": [
      "628949330\n",
      "390577534\n"
     ]
    }
   ],
   "source": [
    "distancia = Jupiter - Tierra #La distancia de jupiter se resta con la de la Tierra\n",
    "print(distancia) #Se imprime el resultado.\n",
    "\n",
    "distancia = distancia * 0.621 #El resultado de la resta lo convertimoa a millas.\n",
    "print(round(distancia)) #Mandamos a imprimir su valor."
   ]
  },
  {
   "cell_type": "markdown",
   "metadata": {},
   "source": [
    "# Ejercicio 2: convierte cadenas en números y usa valores absolutos"
   ]
  },
  {
   "cell_type": "code",
   "execution_count": 19,
   "metadata": {},
   "outputs": [],
   "source": [
    "# Leé los valores.\n",
    "planeta_uno = input(\"Ingresa la distancia del Sol a tu primer planeta en km: \")\n",
    "planeta_dos = input(\"Ingresa la distancia del Sol a tu segundo planeta en km: \")"
   ]
  },
  {
   "cell_type": "code",
   "execution_count": 20,
   "metadata": {},
   "outputs": [],
   "source": [
    "# Convertir a un número.\n",
    "planeta_uno = int(planeta_uno)\n",
    "planeta_dos = int(planeta_dos)"
   ]
  },
  {
   "cell_type": "code",
   "execution_count": 24,
   "metadata": {},
   "outputs": [
    {
     "name": "stdout",
     "output_type": "stream",
     "text": [
      "La distancia en km es de:  628949330\n",
      "La distancia en millas es de: 390577534\n"
     ]
    }
   ],
   "source": [
    "# Realizar el cálculo y convertir a valor absoluto.\n",
    "distancia = planeta_uno - planeta_dos\n",
    "print(\"La distancia en km es de: \", abs(distancia))\n",
    "\n",
    "distancia = distancia * 0.621\n",
    "print(\"La distancia en millas es de:\", abs(round(distancia)))"
   ]
  }
 ],
 "metadata": {
  "interpreter": {
   "hash": "06a043f96cbdacb7dd8fd9e7579e930f43e29d0f9bac5a94729529644d792d98"
  },
  "kernelspec": {
   "display_name": "Python 3.10.2 64-bit",
   "language": "python",
   "name": "python3"
  },
  "language_info": {
   "codemirror_mode": {
    "name": "ipython",
    "version": 3
   },
   "file_extension": ".py",
   "mimetype": "text/x-python",
   "name": "python",
   "nbconvert_exporter": "python",
   "pygments_lexer": "ipython3",
   "version": "3.10.2"
  },
  "orig_nbformat": 4
 },
 "nbformat": 4,
 "nbformat_minor": 2
}
