{
 "cells": [
  {
   "cell_type": "markdown",
   "metadata": {},
   "source": [
    "# Ejercicio 1: Creación de un bucle \"while\"\n",
    "Ejercicio 1: Uso de ciclos while en Python"
   ]
  },
  {
   "cell_type": "code",
   "execution_count": 4,
   "metadata": {},
   "outputs": [],
   "source": [
    "# Aquí solo declaramos dos variables, una es para que se almacenen los datos que ingrese el usuario\n",
    "#  y la otra guardara esos valores pero en una lista.\n",
    "new_planets = \"\"\n",
    "planets = []"
   ]
  },
  {
   "cell_type": "code",
   "execution_count": 5,
   "metadata": {},
   "outputs": [],
   "source": [
    "new_planets = input(\"Ingrese el nombre de un planeta:\") # El usuario debe ingresar el nombre de un planeta.\n",
    "# Con ayuda del ciclo while crearemos un bucle para que el usuario este agregando los nombres que quiera hasta que\n",
    "#  escriba la palabra \"done\" y se salga del bucle.\n",
    "while (new_planets.lower() != \"done\"): \n",
    "    if (new_planets == \"done\"): # Con este if verificaremos si ha escrito la palabra \"done\"\n",
    "        continue                #   y con la palabra reservada \"continue\" omitiremos esa palabra y no se agregue a la lista.\n",
    "    planets.append(new_planets) \n",
    "    new_planets = input('Ingrese algún otro planeta o escriba \"done\" si quiere salir:')\n"
   ]
  },
  {
   "cell_type": "markdown",
   "metadata": {},
   "source": [
    "# Ejercicio 2: Creación de un ciclo \"for\"\n",
    "Ejercicio: - Ciclo para una lista"
   ]
  },
  {
   "cell_type": "code",
   "execution_count": 6,
   "metadata": {},
   "outputs": [
    {
     "name": "stdout",
     "output_type": "stream",
     "text": [
      "Mercury\n",
      "Venus\n",
      "Earth\n",
      "Mars\n",
      "Jupiter\n",
      "Saturn\n",
      "Uranus\n",
      "Neptune\n"
     ]
    }
   ],
   "source": [
    "# Con ayuda de este ciclo for vamos a recorrer cada elemnto de la lista y así imprimiendo cada valor almacenandose en la variables \"planetas\".\n",
    "for planetas in planets:\n",
    "    print(planetas)"
   ]
  }
 ],
 "metadata": {
  "interpreter": {
   "hash": "06a043f96cbdacb7dd8fd9e7579e930f43e29d0f9bac5a94729529644d792d98"
  },
  "kernelspec": {
   "display_name": "Python 3.10.2 64-bit",
   "language": "python",
   "name": "python3"
  },
  "language_info": {
   "codemirror_mode": {
    "name": "ipython",
    "version": 3
   },
   "file_extension": ".py",
   "mimetype": "text/x-python",
   "name": "python",
   "nbconvert_exporter": "python",
   "pygments_lexer": "ipython3",
   "version": "3.10.2"
  },
  "orig_nbformat": 4
 },
 "nbformat": 4,
 "nbformat_minor": 2
}
