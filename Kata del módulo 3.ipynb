{
 "cells": [
  {
   "cell_type": "markdown",
   "metadata": {},
   "source": [
    "# Ejercicio - Escribir declaraciones if, else, y elif"
   ]
  },
  {
   "cell_type": "code",
   "execution_count": 1,
   "metadata": {},
   "outputs": [
    {
     "name": "stdout",
     "output_type": "stream",
     "text": [
      "¡!Advertencia¡!, un asteroide se acreca a la Tierra a gran velocidad\n"
     ]
    },
    {
     "data": {
      "text/plain": [
       "9"
      ]
     },
     "execution_count": 1,
     "metadata": {},
     "output_type": "execute_result"
    }
   ],
   "source": [
    "asteroide = 49 #El asteroide viaja a una velocidad de 49 km/s.\n",
    "\n",
    "if asteroide > 25: #Si el asteroide viaja a una velocidad mayor de 25 km/s se arroja una advertencia.\n",
    "    print(\"¡!Advertencia¡!, un asteroide se acreca a la Tierra a gran velocidad\")\n",
    "else: #En caso de no cumplirse la condición se arroja una alerta que va a una velocidad inferior.\n",
    "    print(\"Un asteroide se acerca a poca velocidad hacia la Tierra, no corren peligro\")\n"
   ]
  },
  {
   "cell_type": "code",
   "execution_count": 4,
   "metadata": {},
   "outputs": [
    {
     "name": "stdout",
     "output_type": "stream",
     "text": [
      "No se vio ese rayo de luz del asteroide\n"
     ]
    }
   ],
   "source": [
    "asteroide = 19 #El asteroide entra a la atmosfera a una velocidad de 19 km/s\n",
    "\n",
    "if asteroide > 20: #Si el asteroide es mayor a 20 km/s en el cielo se podra ver un rayo de luz.\n",
    "    print(\"Busquen un rayo de luz en el cielo\")\n",
    "elif asteroide == 20: #Si es igual a 20 km/s de igual manera se mostrara un rayo de luz.\n",
    "    print(\"Busquen un rayo de luz en el cielo\")\n",
    "else: #En dado caso de tener una velocidad menor, no se observara nada.\n",
    "    print(\"No se vio ese rayo de luz del asteroide\")"
   ]
  },
  {
   "cell_type": "markdown",
   "metadata": {},
   "source": [
    "# Ejercicio: Uso de operadores and y or"
   ]
  },
  {
   "cell_type": "code",
   "execution_count": 3,
   "metadata": {},
   "outputs": [],
   "source": [
    "asteroide = 25 #la velociddad del asteroide es de 25 km/s.\n",
    "dimension_asteroide = 35 #El tamaño del asteroide es de 35 metros\n",
    "\n",
    "if asteroide > 25 and dimension_asteroide > 25: #Si la velocidad del asteroide es mayor a 25 km/s y su tamaño es mayor de 25 metros.\n",
    "    print(\"¡!Un asteroide impactara con la tierra cubranse¡!\")\n",
    "elif asteroide >= 20: #Si el asteroide es mayor o igual a 20 km/s se refleja un rayo de luz en el cielo.\n",
    "        print(\"Miren en el cielo se ve un rayo de luz\")\n",
    "elif dimension_asteroide < 25: #Si el tamaño del asteroide es menor de 25 metros este se habra desvanecido.\n",
    "        print(\"No hay por que preocuparse\")\n",
    "else: #En dado caso de no cumplirse ninguna simplemente el asteroide se desvanecio al entrar a la Tierra.\n",
    "    print(\"El asteroide se quemo al entrar en contacto con la Tierra\") "
   ]
  }
 ],
 "metadata": {
  "interpreter": {
   "hash": "06a043f96cbdacb7dd8fd9e7579e930f43e29d0f9bac5a94729529644d792d98"
  },
  "kernelspec": {
   "display_name": "Python 3.10.2 64-bit",
   "language": "python",
   "name": "python3"
  },
  "language_info": {
   "codemirror_mode": {
    "name": "ipython",
    "version": 3
   },
   "file_extension": ".py",
   "mimetype": "text/x-python",
   "name": "python",
   "nbconvert_exporter": "python",
   "pygments_lexer": "ipython3",
   "version": "3.10.2"
  },
  "orig_nbformat": 4
 },
 "nbformat": 4,
 "nbformat_minor": 2
}
