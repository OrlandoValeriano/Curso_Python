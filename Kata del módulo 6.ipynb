{
 "cells": [
  {
   "cell_type": "markdown",
   "metadata": {},
   "source": [
    "# Ejercicio 1: Crear y usar listas de Python\n",
    "Ejercicio: Usar para alamacenar nombres de planetas"
   ]
  },
  {
   "cell_type": "code",
   "execution_count": 22,
   "metadata": {},
   "outputs": [
    {
     "name": "stdout",
     "output_type": "stream",
     "text": [
      "Hay 8 planetas en el sistema Solar.\n"
     ]
    }
   ],
   "source": [
    "#Mi lista de planetas\n",
    "planets = [\"Mercury\", \"Venus\", \"Earth\", \"Mars\", \"Jupiter\", \"Saturn\", \"Uranus\", \"Neptune\"]\n",
    "\n",
    "#Con el método len(value) podemos saber la cantidad de objetos que tenemos en nuestra lista.\n",
    "print(\"Hay\", len(planets), \"planetas en el sistema Solar.\")"
   ]
  },
  {
   "cell_type": "code",
   "execution_count": null,
   "metadata": {},
   "outputs": [],
   "source": [
    "#Con el método append(\"Objeto\") podemos agrgar elementos al final de la lista.\n",
    "planets.append(\"Pluto\")\n",
    "#Aqui el método len nos mostrara la cantidad actual de los planetas.\n",
    "cantidad_de_planetas = len(planets)\n",
    "print(\"Hay\", cantidad_de_planetas,\"planetas en el Sistema Solar, el último planeta es:\", planets[8])"
   ]
  },
  {
   "cell_type": "markdown",
   "metadata": {},
   "source": [
    "# Ejercicio 2: Trabajando con datos de una lista\n",
    "Usar slices para recuperar partes de una lista"
   ]
  },
  {
   "cell_type": "code",
   "execution_count": 11,
   "metadata": {},
   "outputs": [],
   "source": [
    "#Creamos un lista con los nombres de los planetas\n",
    "planets = [\"Mercury\", \"Venus\", \"Earth\", \"Mars\", \"Jupiter\", \"Saturn\", \"Uranus\", \"Neptune\"]"
   ]
  },
  {
   "cell_type": "code",
   "execution_count": 12,
   "metadata": {},
   "outputs": [],
   "source": [
    "#Le debemos solicitar al usuario que ingrese el nombre de un planeta\n",
    "teclado = input(\"Ingresa el nombre de un planeta: \")"
   ]
  },
  {
   "cell_type": "code",
   "execution_count": 13,
   "metadata": {},
   "outputs": [
    {
     "name": "stdout",
     "output_type": "stream",
     "text": [
      "Jupiter es el 5 planeta del Sistema Solar\n"
     ]
    }
   ],
   "source": [
    "#Ahora vamos a buscar si se encuentra el planeta solicitado por el usuario dentro de nuestra lista previamente creada.\n",
    "buscar_planeta = planets.index(teclado)\n",
    "print(teclado,\"es el\",buscar_planeta + 1,\"planeta del Sistema Solar\")"
   ]
  },
  {
   "cell_type": "code",
   "execution_count": 25,
   "metadata": {},
   "outputs": [
    {
     "name": "stdout",
     "output_type": "stream",
     "text": [
      "Los planetas más cercanos al Sol son: ['Mercury', 'Venus', 'Earth', 'Mars']\n"
     ]
    }
   ],
   "source": [
    "#Los planetas más cercanos al Sol.\n",
    "planetas_mas_cercanos = planets[0:buscar_planeta]\n",
    "print(\"Los planetas más cercanos al Sol son:\",planetas_mas_cercanos)"
   ]
  },
  {
   "cell_type": "code",
   "execution_count": 20,
   "metadata": {},
   "outputs": [
    {
     "name": "stdout",
     "output_type": "stream",
     "text": [
      "Los planetas más alejados del Sol son: ['Jupiter', 'Saturn', 'Uranus', 'Neptune']\n"
     ]
    }
   ],
   "source": [
    "#Los planetas más alejados del Sol.\n",
    "planetas_mas_alejados = planets[buscar_planeta:8]\n",
    "print(\"Los planetas más alejados del Sol son:\",planetas_mas_alejados)"
   ]
  }
 ],
 "metadata": {
  "interpreter": {
   "hash": "06a043f96cbdacb7dd8fd9e7579e930f43e29d0f9bac5a94729529644d792d98"
  },
  "kernelspec": {
   "display_name": "Python 3.10.2 64-bit",
   "language": "python",
   "name": "python3"
  },
  "language_info": {
   "codemirror_mode": {
    "name": "ipython",
    "version": 3
   },
   "file_extension": ".py",
   "mimetype": "text/x-python",
   "name": "python",
   "nbconvert_exporter": "python",
   "pygments_lexer": "ipython3",
   "version": "3.10.2"
  },
  "orig_nbformat": 4
 },
 "nbformat": 4,
 "nbformat_minor": 2
}
