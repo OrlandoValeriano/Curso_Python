{
 "cells": [
  {
   "cell_type": "markdown",
   "metadata": {},
   "source": [
    "# Ejercicio 1: Creación de diccionarios en Python\n",
    "Ejercicio: Crear y modificar un diccionario de Python"
   ]
  },
  {
   "cell_type": "code",
   "execution_count": 23,
   "metadata": {},
   "outputs": [],
   "source": [
    "# El diccionario tinene la caracteristica de que se abre con llaves y debemos colocar una clave con su respectivo valor\n",
    "# a diferencia de las listas (list) o tuplas (tuples).\n",
    "planet = {\"name\":\"Mars\", \"moons\":2}"
   ]
  },
  {
   "cell_type": "code",
   "execution_count": 24,
   "metadata": {},
   "outputs": [
    {
     "name": "stdout",
     "output_type": "stream",
     "text": [
      "El nombre del planeta es: Mars y tiene 2 lunas.\n"
     ]
    }
   ],
   "source": [
    "# Con ayuda del metodo \"get\" recuperamos valores que esten dentro de nuestro diccionario.\n",
    "print(\"El nombre del planeta es: \" + planet.get(\"name\") + \" y tiene \" + str(planet.get(\"moons\")) + \" lunas.\")"
   ]
  },
  {
   "cell_type": "code",
   "execution_count": 25,
   "metadata": {},
   "outputs": [],
   "source": [
    "# De esta manera podemos introducir valores a nuestro diccionario y si queremos modificar un valor que ya esta dentro del\n",
    "# diccionario solo necesitamos colocar la clave y su nuevo valor.\n",
    "planet[\"polar\"] = 6752\n",
    "planet[\"equatorial\"] = 6792"
   ]
  },
  {
   "cell_type": "code",
   "execution_count": 26,
   "metadata": {},
   "outputs": [
    {
     "name": "stdout",
     "output_type": "stream",
     "text": [
      "El nombre del planeta es: Mars y su circunferencia polar es: 6752\n"
     ]
    }
   ],
   "source": [
    "# Esta es otra manera en la que podemos recuperar valores dentro de los diccionarios.\n",
    "print(\"El nombre del planeta es: \" + planet[\"name\"] + \" y su circunferencia polar es:\",planet[\"polar\"])"
   ]
  },
  {
   "cell_type": "markdown",
   "metadata": {},
   "source": [
    "# Ejercicio 2: Programación dinámica con diccionarios\n",
    "Ejercicio: Cálculo de valores"
   ]
  },
  {
   "cell_type": "code",
   "execution_count": 27,
   "metadata": {},
   "outputs": [],
   "source": [
    "planet_moons = {\n",
    "    \"mercury\":0, \n",
    "    \"venus\":0, \n",
    "    \"earth\":1, \n",
    "    \"mars\":2, \n",
    "    \"jupiter\":79, \n",
    "    \"saturn\":82, \n",
    "    \"uranus\":27, \n",
    "    \"neptune\":14, \n",
    "    \"pluto\":5, \n",
    "    \"haumea\":2, \n",
    "    \"makemake\":1, \n",
    "    \"eris\":1\n",
    "    }"
   ]
  },
  {
   "cell_type": "code",
   "execution_count": 28,
   "metadata": {},
   "outputs": [],
   "source": [
    "moons = planet_moons.values() # Al colocar el método \"values\" nos regresa los valores de cada una de las claves del diccionario.\n",
    "planets = len(planet_moons.keys()) # Con el método \"len\" contamos cuantos valores hay en nuestro diccionario, en este caso\n",
    "                                   # solo esta contando las claves."
   ]
  },
  {
   "cell_type": "code",
   "execution_count": 29,
   "metadata": {},
   "outputs": [
    {
     "name": "stdout",
     "output_type": "stream",
     "text": [
      "El promedio es: 17.833333333333332\n"
     ]
    }
   ],
   "source": [
    "total_moons = 0 # Aqui declaramos una variable. \n",
    "for moon in moons: # Con ayuda del ciclo for y la nueva variable \"moon\" ira recorriendo cada valor de las claves.\n",
    "    total_moons = total_moons + moon # Entrando en las instrucciones se iran sumando todas las lunas y se iran guardando en nuestra variable \"total_moons\"\n",
    "\n",
    "promedio = total_moons / planets # Al finalizar el ciclo entrara esta instrucción el cual divide la suma de las lunas entre el número de planetas (214/12).\n",
    "\n",
    "print(\"El promedio es: \" + str(promedio)) #Al final solo nos muestra el promedio que surge de la division anterior."
   ]
  }
 ],
 "metadata": {
  "interpreter": {
   "hash": "06a043f96cbdacb7dd8fd9e7579e930f43e29d0f9bac5a94729529644d792d98"
  },
  "kernelspec": {
   "display_name": "Python 3.10.2 64-bit",
   "language": "python",
   "name": "python3"
  },
  "language_info": {
   "codemirror_mode": {
    "name": "ipython",
    "version": 3
   },
   "file_extension": ".py",
   "mimetype": "text/x-python",
   "name": "python",
   "nbconvert_exporter": "python",
   "pygments_lexer": "ipython3",
   "version": "3.10.2"
  },
  "orig_nbformat": 4
 },
 "nbformat": 4,
 "nbformat_minor": 2
}
