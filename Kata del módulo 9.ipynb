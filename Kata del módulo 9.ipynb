{
 "cells": [
  {
   "cell_type": "markdown",
   "metadata": {},
   "source": [
    "# Ejercicio: Uso de funciones en Python\n",
    "Ejercicio 1: Trabajar con argumentos en funciones\n",
    "___"
   ]
  },
  {
   "cell_type": "code",
   "execution_count": 28,
   "metadata": {},
   "outputs": [],
   "source": [
    "def generarReporte (tanque_principal, tanque_externo, tanque_hidrogeno):\n",
    "    total = (tanque_principal + tanque_externo + tanque_externo) / 3\n",
    "    return f\"\"\"Reporte:\n",
    "    Total: {total}%\n",
    "    Tanque principal: {tanque_principal}%\n",
    "    Tanque externo: {tanque_externo}%\n",
    "    Tanque de hidrogeno: {tanque_hidrogeno}%\n",
    "    \"\"\""
   ]
  },
  {
   "cell_type": "code",
   "execution_count": 29,
   "metadata": {},
   "outputs": [
    {
     "name": "stdout",
     "output_type": "stream",
     "text": [
      "Reporte:\n",
      "    Total: 63.333333333333336%\n",
      "    Tanque principal: 50%\n",
      "    Tanque externo: 70%\n",
      "    Tanque de hidrogeno: 90%\n",
      "    \n"
     ]
    }
   ],
   "source": [
    "print(generarReporte(50,70,90))"
   ]
  },
  {
   "cell_type": "code",
   "execution_count": 30,
   "metadata": {},
   "outputs": [
    {
     "data": {
      "text/plain": [
       "82.0"
      ]
     },
     "execution_count": 30,
     "metadata": {},
     "output_type": "execute_result"
    }
   ],
   "source": [
    "def promedio (values):\n",
    "    total = sum(values)\n",
    "    number_of_items = len(values)\n",
    "    return total / number_of_items\n",
    "\n",
    "promedio([80,85,81])"
   ]
  },
  {
   "cell_type": "code",
   "execution_count": 31,
   "metadata": {},
   "outputs": [
    {
     "name": "stdout",
     "output_type": "stream",
     "text": [
      "Reporte:\n",
      "    Total: 80.0%\n",
      "    Tanque principal: 88%\n",
      "    Tanque externo: 76%\n",
      "    Tanque de hidrogeno: 70%\n",
      "    \n"
     ]
    }
   ],
   "source": [
    "def generarReporte (tanque_principal, tanque_externo, tanque_hidrogeno):\n",
    "    return f\"\"\"Reporte:\n",
    "    Total: {promedio([tanque_principal, tanque_externo, tanque_externo])}%\n",
    "    Tanque principal: {tanque_principal}%\n",
    "    Tanque externo: {tanque_externo}%\n",
    "    Tanque de hidrogeno: {tanque_hidrogeno}%\n",
    "    \"\"\"\n",
    "\n",
    "print(generarReporte(88, 76, 70))"
   ]
  },
  {
   "cell_type": "markdown",
   "metadata": {},
   "source": [
    "# Ejercicio 2: Trabajo con argumentos de palabras clave\n",
    "Ejercicio: Trabajar con argumentos de palabras clave en funciones"
   ]
  },
  {
   "cell_type": "code",
   "execution_count": 32,
   "metadata": {},
   "outputs": [
    {
     "name": "stdout",
     "output_type": "stream",
     "text": [
      "\n",
      "    Misión a la Luna\n",
      "    Tiempo de viaje: 65 minutos\n",
      "    Combustible restante: 500000 galones\n",
      "    \n"
     ]
    }
   ],
   "source": [
    "def reporteMision(tiempo_lanzamiento, tiempo_vuelo, destino, tanque_externo, tanque_principal):\n",
    "    return f\"\"\"\n",
    "    Misión a la {destino}\n",
    "    Tiempo de viaje: {tiempo_lanzamiento + tiempo_vuelo} minutos\n",
    "    Combustible restante: {tanque_externo + tanque_principal} galones\n",
    "    \"\"\"\n",
    "\n",
    "print(reporteMision(14, 51, \"Luna\", 200000, 300000))"
   ]
  },
  {
   "cell_type": "code",
   "execution_count": 33,
   "metadata": {},
   "outputs": [
    {
     "name": "stdout",
     "output_type": "stream",
     "text": [
      "\n",
      "    Misión a la Luna\n",
      "    Tiempo de viaje: 76 minutos\n",
      "    Combustible restante: 500000\n",
      "    \n"
     ]
    }
   ],
   "source": [
    "def reporteMision(destino, *minutos, **deposito):\n",
    "    return f\"\"\"\n",
    "    Misión a la {destino}\n",
    "    Tiempo de viaje: {sum(minutos)} minutos\n",
    "    Combustible restante: {sum(deposito.values())}\n",
    "    \"\"\"\n",
    "\n",
    "print(reporteMision(\"Luna\", 10, 15, 51, principal=300000, externo=200000))"
   ]
  },
  {
   "cell_type": "code",
   "execution_count": 34,
   "metadata": {},
   "outputs": [
    {
     "name": "stdout",
     "output_type": "stream",
     "text": [
      "\n",
      "    Misión a la Luna\n",
      "    Tiempo de viaje: 74 minutos\n",
      "    Combustible restante: 500000\n",
      "    principal tanque --> 300000 galones\n",
      "externo tanque --> 200000 galones\n",
      "\n"
     ]
    }
   ],
   "source": [
    "def reporteMision(destino, *minutos, **deposito):\n",
    "    main = f\"\"\"\n",
    "    Misión a la {destino}\n",
    "    Tiempo de viaje: {sum(minutos)} minutos\n",
    "    Combustible restante: {sum(deposito.values())}\n",
    "    \"\"\"\n",
    "    for nombre_tanque, galones in deposito.items():\n",
    "        main += f\"{nombre_tanque} tanque --> {galones} galones\\n\"\n",
    "    return main\n",
    "\n",
    "print(reporteMision(\"Luna\", 8, 11, 55, principal=300000, externo=200000))"
   ]
  }
 ],
 "metadata": {
  "interpreter": {
   "hash": "06a043f96cbdacb7dd8fd9e7579e930f43e29d0f9bac5a94729529644d792d98"
  },
  "kernelspec": {
   "display_name": "Python 3.10.2 64-bit",
   "language": "python",
   "name": "python3"
  },
  "language_info": {
   "codemirror_mode": {
    "name": "ipython",
    "version": 3
   },
   "file_extension": ".py",
   "mimetype": "text/x-python",
   "name": "python",
   "nbconvert_exporter": "python",
   "pygments_lexer": "ipython3",
   "version": "3.10.2"
  },
  "orig_nbformat": 4
 },
 "nbformat": 4,
 "nbformat_minor": 2
}
